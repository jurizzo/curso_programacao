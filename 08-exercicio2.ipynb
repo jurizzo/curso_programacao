{
  "nbformat": 4,
  "nbformat_minor": 0,
  "metadata": {
    "kernelspec": {
      "display_name": "Python 3",
      "language": "python",
      "name": "python3"
    },
    "language_info": {
      "codemirror_mode": {
        "name": "ipython",
        "version": 3
      },
      "file_extension": ".py",
      "mimetype": "text/x-python",
      "name": "python",
      "nbconvert_exporter": "python",
      "pygments_lexer": "ipython3",
      "version": "3.8.3"
    },
    "colab": {
      "name": "08-exercicio2.ipynb",
      "provenance": []
    }
  },
  "cells": [
    {
      "cell_type": "markdown",
      "metadata": {
        "id": "4WGlGdOfmqlI"
      },
      "source": [
        "# Exercícios"
      ]
    },
    {
      "cell_type": "markdown",
      "metadata": {
        "id": "-XJv2PAWmqlK"
      },
      "source": [
        "## 1\n",
        "Crie uma função que receba uma lista como argumento e some todos os seus itens."
      ]
    },
    {
      "cell_type": "code",
      "metadata": {
        "id": "bZcdTVSUmqlL",
        "outputId": "8057e5bd-b42e-487d-ef19-1e77b7be59e8",
        "colab": {
          "base_uri": "https://localhost:8080/",
          "height": 34
        }
      },
      "source": [
        "def soma(lista):\n",
        "  soma = 0\n",
        "  for numero in lista:\n",
        "    soma = soma + numero\n",
        "  return soma\n",
        "\n",
        "lista = [10,11,12,13,14,15]\n",
        "soma(lista)"
      ],
      "execution_count": 1,
      "outputs": [
        {
          "output_type": "execute_result",
          "data": {
            "text/plain": [
              "75"
            ]
          },
          "metadata": {
            "tags": []
          },
          "execution_count": 1
        }
      ]
    },
    {
      "cell_type": "markdown",
      "metadata": {
        "id": "J00LXo3nmqlT"
      },
      "source": [
        "## 2\n",
        "Crie uma função que: \n",
        "- receba uma lista e um número como argumentos, e \n",
        "- retorne uma nova lista com cada elemento da lista original multiplicado pelo número"
      ]
    },
    {
      "cell_type": "code",
      "metadata": {
        "id": "bZth9aDnmqlT",
        "outputId": "d5d855d5-5c79-4b18-aa1b-6e1cffd68652",
        "colab": {
          "base_uri": "https://localhost:8080/",
          "height": 34
        }
      },
      "source": [
        "def multiplicacao(lista,x):\n",
        "  outra_lista = []\n",
        "  for n in lista:\n",
        "    outra_lista.append(x*n)\n",
        "  return outra_lista\n",
        "\n",
        "multiplicacao([2.5,3,3.5,4,4.5],10)"
      ],
      "execution_count": 2,
      "outputs": [
        {
          "output_type": "execute_result",
          "data": {
            "text/plain": [
              "[25.0, 30, 35.0, 40, 45.0]"
            ]
          },
          "metadata": {
            "tags": []
          },
          "execution_count": 2
        }
      ]
    },
    {
      "cell_type": "markdown",
      "metadata": {
        "id": "b3d1aEN7mqlY"
      },
      "source": [
        "## 3\n",
        "Crie uma função que retorne o maior número presente em uma lista"
      ]
    },
    {
      "cell_type": "code",
      "metadata": {
        "id": "orXyNvldmqlZ",
        "outputId": "46ab7446-33d8-443d-87b4-e0e8e5a797c9",
        "colab": {
          "base_uri": "https://localhost:8080/",
          "height": 34
        }
      },
      "source": [
        "def maior_n_na_lista(lista):\n",
        "  maior_n = None\n",
        "  for numero in lista:\n",
        "    if maior_n == None: \n",
        "      maior_n = numero \n",
        "    elif numero > maior_n:\n",
        "      maior_n = numero\n",
        "  return maior_n\n",
        "\n",
        "maior_n_na_lista([56,45,89,324])"
      ],
      "execution_count": 3,
      "outputs": [
        {
          "output_type": "execute_result",
          "data": {
            "text/plain": [
              "324"
            ]
          },
          "metadata": {
            "tags": []
          },
          "execution_count": 3
        }
      ]
    },
    {
      "cell_type": "markdown",
      "metadata": {
        "id": "KDfrMuklmqld"
      },
      "source": [
        "## 4\n",
        "Crie uma função que remova valores duplicados de uma lista"
      ]
    },
    {
      "cell_type": "code",
      "metadata": {
        "id": "5y4A19sVmqle",
        "outputId": "c5c64053-d5f9-464c-8cc3-371025af7823",
        "colab": {
          "base_uri": "https://localhost:8080/",
          "height": 34
        }
      },
      "source": [
        "def tira_2x(lista):\n",
        "  lista_unica = []\n",
        "  for n in lista:\n",
        "    if n not in lista_unica:\n",
        "      lista_unica.append(n)\n",
        "  return lista_unica\n",
        "\n",
        "tira_2x([5,9,16,16,34,\"cafe\",\"cafe\",\"fogao\"])"
      ],
      "execution_count": 4,
      "outputs": [
        {
          "output_type": "execute_result",
          "data": {
            "text/plain": [
              "[5, 9, 16, 34, 'cafe', 'fogao']"
            ]
          },
          "metadata": {
            "tags": []
          },
          "execution_count": 4
        }
      ]
    },
    {
      "cell_type": "markdown",
      "metadata": {
        "id": "kTM_kou4mqli"
      },
      "source": [
        "## 5\n",
        "Crie uma função que cheque se uma lista é vazia ou não, a qual deve:\n",
        "- Retornar verdadeiro (True) se a lista tiver algum elemento\n",
        "- Retornar falso (False) se a lista for vazia"
      ]
    },
    {
      "cell_type": "code",
      "metadata": {
        "id": "NXeSKAcvmqlj",
        "outputId": "7d88518d-4860-4d94-b2da-c02d21f9108f",
        "colab": {
          "base_uri": "https://localhost:8080/",
          "height": 51
        }
      },
      "source": [
        "def checagem(lista):\n",
        "  if len(lista) == 0:\n",
        "    return False\n",
        "  else:\n",
        "    return True\n",
        "\n",
        "print(checagem([]))\n",
        "print(checagem([15]))"
      ],
      "execution_count": 5,
      "outputs": [
        {
          "output_type": "stream",
          "text": [
            "False\n",
            "True\n"
          ],
          "name": "stdout"
        }
      ]
    },
    {
      "cell_type": "markdown",
      "metadata": {
        "id": "l0MZmb9gmqlo"
      },
      "source": [
        "## 6\n",
        "Escreva uma função que receba duas listas e:\n",
        "- Retorne verdadeiro se as listas tiverem algum elemento em comum\n",
        "- Retorne falso caso contrário"
      ]
    },
    {
      "cell_type": "code",
      "metadata": {
        "id": "IAHijRMXmqlo",
        "outputId": "1d905765-3f66-4f2e-adad-de08ebec2fec",
        "colab": {
          "base_uri": "https://localhost:8080/",
          "height": 51
        }
      },
      "source": [
        "def checagem_das_duas_listas(lista1, lista2):\n",
        "  for item in lista1:\n",
        "    if item in lista2:\n",
        "      return True \n",
        "  return False\n",
        "\n",
        "print(checagem_das_duas_listas([20,21,22,23,24],[30,31,32,33,34]))\n",
        "print(checagem_das_duas_listas([20,21,22,23],[22,23,24,25]))"
      ],
      "execution_count": 6,
      "outputs": [
        {
          "output_type": "stream",
          "text": [
            "False\n",
            "True\n"
          ],
          "name": "stdout"
        }
      ]
    },
    {
      "cell_type": "markdown",
      "metadata": {
        "id": "TEjiPvQymqlt"
      },
      "source": [
        "## 7\n",
        "Escreva uma função que retorne uma lista de números que:\n",
        "- Sejam divisíveis por 7 **E** múltiplos de 5\n",
        "- Estejam entre 1500 e 2700"
      ]
    },
    {
      "cell_type": "code",
      "metadata": {
        "id": "qJ0Po4j2mqlu",
        "outputId": "7be3acc3-3025-4a73-f474-61b00b534bc3",
        "colab": {
          "base_uri": "https://localhost:8080/",
          "height": 34
        }
      },
      "source": [
        "25 % 5"
      ],
      "execution_count": 7,
      "outputs": [
        {
          "output_type": "execute_result",
          "data": {
            "text/plain": [
              "0"
            ]
          },
          "metadata": {
            "tags": []
          },
          "execution_count": 7
        }
      ]
    },
    {
      "cell_type": "markdown",
      "metadata": {
        "id": "0bTng2b3mqlx"
      },
      "source": [
        "## 8\n",
        "Escreva uma função que retorne uma lista de números que:\n",
        "- Sejam divisíveis por 7 **OU** múltiplos de 5\n",
        "- Estejam entre 1500 e 2700"
      ]
    },
    {
      "cell_type": "code",
      "metadata": {
        "id": "ugUgCX6wnMbj",
        "outputId": "5cc50714-6c20-4e2a-8eaf-76bda516deda",
        "colab": {
          "base_uri": "https://localhost:8080/",
          "height": 54
        }
      },
      "source": [
        "def lista_de_num():\n",
        "  lista = []\n",
        "  for x in range(1500,2701):\n",
        "    if x % 7 == 0 or x % 5 == 0:\n",
        "      lista.append(x)\n",
        "  return lista\n",
        "\n",
        "print(lista_de_num())\n"
      ],
      "execution_count": 8,
      "outputs": [
        {
          "output_type": "stream",
          "text": [
            "[1500, 1505, 1510, 1512, 1515, 1519, 1520, 1525, 1526, 1530, 1533, 1535, 1540, 1545, 1547, 1550, 1554, 1555, 1560, 1561, 1565, 1568, 1570, 1575, 1580, 1582, 1585, 1589, 1590, 1595, 1596, 1600, 1603, 1605, 1610, 1615, 1617, 1620, 1624, 1625, 1630, 1631, 1635, 1638, 1640, 1645, 1650, 1652, 1655, 1659, 1660, 1665, 1666, 1670, 1673, 1675, 1680, 1685, 1687, 1690, 1694, 1695, 1700, 1701, 1705, 1708, 1710, 1715, 1720, 1722, 1725, 1729, 1730, 1735, 1736, 1740, 1743, 1745, 1750, 1755, 1757, 1760, 1764, 1765, 1770, 1771, 1775, 1778, 1780, 1785, 1790, 1792, 1795, 1799, 1800, 1805, 1806, 1810, 1813, 1815, 1820, 1825, 1827, 1830, 1834, 1835, 1840, 1841, 1845, 1848, 1850, 1855, 1860, 1862, 1865, 1869, 1870, 1875, 1876, 1880, 1883, 1885, 1890, 1895, 1897, 1900, 1904, 1905, 1910, 1911, 1915, 1918, 1920, 1925, 1930, 1932, 1935, 1939, 1940, 1945, 1946, 1950, 1953, 1955, 1960, 1965, 1967, 1970, 1974, 1975, 1980, 1981, 1985, 1988, 1990, 1995, 2000, 2002, 2005, 2009, 2010, 2015, 2016, 2020, 2023, 2025, 2030, 2035, 2037, 2040, 2044, 2045, 2050, 2051, 2055, 2058, 2060, 2065, 2070, 2072, 2075, 2079, 2080, 2085, 2086, 2090, 2093, 2095, 2100, 2105, 2107, 2110, 2114, 2115, 2120, 2121, 2125, 2128, 2130, 2135, 2140, 2142, 2145, 2149, 2150, 2155, 2156, 2160, 2163, 2165, 2170, 2175, 2177, 2180, 2184, 2185, 2190, 2191, 2195, 2198, 2200, 2205, 2210, 2212, 2215, 2219, 2220, 2225, 2226, 2230, 2233, 2235, 2240, 2245, 2247, 2250, 2254, 2255, 2260, 2261, 2265, 2268, 2270, 2275, 2280, 2282, 2285, 2289, 2290, 2295, 2296, 2300, 2303, 2305, 2310, 2315, 2317, 2320, 2324, 2325, 2330, 2331, 2335, 2338, 2340, 2345, 2350, 2352, 2355, 2359, 2360, 2365, 2366, 2370, 2373, 2375, 2380, 2385, 2387, 2390, 2394, 2395, 2400, 2401, 2405, 2408, 2410, 2415, 2420, 2422, 2425, 2429, 2430, 2435, 2436, 2440, 2443, 2445, 2450, 2455, 2457, 2460, 2464, 2465, 2470, 2471, 2475, 2478, 2480, 2485, 2490, 2492, 2495, 2499, 2500, 2505, 2506, 2510, 2513, 2515, 2520, 2525, 2527, 2530, 2534, 2535, 2540, 2541, 2545, 2548, 2550, 2555, 2560, 2562, 2565, 2569, 2570, 2575, 2576, 2580, 2583, 2585, 2590, 2595, 2597, 2600, 2604, 2605, 2610, 2611, 2615, 2618, 2620, 2625, 2630, 2632, 2635, 2639, 2640, 2645, 2646, 2650, 2653, 2655, 2660, 2665, 2667, 2670, 2674, 2675, 2680, 2681, 2685, 2688, 2690, 2695, 2700]\n"
          ],
          "name": "stdout"
        }
      ]
    },
    {
      "cell_type": "markdown",
      "metadata": {
        "id": "J5SqFXn5mqly"
      },
      "source": [
        "## 9\n",
        "Escreva uma função que imprima na tela todos os números de 0 a 6, com exceção de 3 e 6.\n",
        "- Dica: Use a palavra-chave \"continue\""
      ]
    },
    {
      "cell_type": "code",
      "metadata": {
        "id": "cWbJKGJumqlz",
        "outputId": "ec7aba53-9367-4018-830f-40af8ff285e1",
        "colab": {
          "base_uri": "https://localhost:8080/",
          "height": 102
        }
      },
      "source": [
        "def imprime_n():\n",
        "  for num in range(0,7):\n",
        "    if num in [3,6]:\n",
        "      continue\n",
        "    print(num)\n",
        "\n",
        "imprime_n()"
      ],
      "execution_count": 10,
      "outputs": [
        {
          "output_type": "stream",
          "text": [
            "0\n",
            "1\n",
            "2\n",
            "4\n",
            "5\n"
          ],
          "name": "stdout"
        }
      ]
    },
    {
      "cell_type": "markdown",
      "metadata": {
        "id": "EyIBeV7smql3"
      },
      "source": [
        "## 10\n",
        "Escreva uma função que cheque se uma letra é uma vogal ou uma consoante, retornando:\n",
        "- Verdadeiro se for vogal\n",
        "- Falso se for consoante"
      ]
    },
    {
      "cell_type": "code",
      "metadata": {
        "id": "L5k04_NJmql4",
        "outputId": "bff4c6ea-9678-419c-fcd4-82a921136786",
        "colab": {
          "base_uri": "https://localhost:8080/",
          "height": 51
        }
      },
      "source": [
        "def vogal_ou_consoante(letra):\n",
        "  if letra in [\"a\",\"e\",\"i\",\"o\",\"u\"]:\n",
        "    return True\n",
        "  else:\n",
        "    return False\n",
        "\n",
        "\n",
        "print(vogal_ou_consoante(\"u\"))\n",
        "print(vogal_ou_consoante(\"w\"))\n"
      ],
      "execution_count": 11,
      "outputs": [
        {
          "output_type": "stream",
          "text": [
            "True\n",
            "False\n"
          ],
          "name": "stdout"
        }
      ]
    },
    {
      "cell_type": "markdown",
      "metadata": {
        "id": "ePNis7wZmql8"
      },
      "source": [
        "## 11\n",
        "Escreva uma função que imprima o seguinte padrão na tela:\n",
        "\n",
        "```\n",
        "1\n",
        "22\n",
        "333\n",
        "4444\n",
        "55555\n",
        "666666\n",
        "7777777\n",
        "88888888\n",
        "999999999\n",
        "```"
      ]
    },
    {
      "cell_type": "code",
      "metadata": {
        "id": "_voTwegRmql9",
        "outputId": "59a86baa-da3d-46fd-98dc-de368c311ed0",
        "colab": {
          "base_uri": "https://localhost:8080/",
          "height": 170
        }
      },
      "source": [
        "def padrao():\n",
        "  for n in range(1,10):\n",
        "    print(n*str(n))\n",
        "\n",
        "padrao()"
      ],
      "execution_count": 12,
      "outputs": [
        {
          "output_type": "stream",
          "text": [
            "1\n",
            "22\n",
            "333\n",
            "4444\n",
            "55555\n",
            "666666\n",
            "7777777\n",
            "88888888\n",
            "999999999\n"
          ],
          "name": "stdout"
        }
      ]
    },
    {
      "cell_type": "markdown",
      "metadata": {
        "id": "q3zL_75vmqmA"
      },
      "source": [
        "## 12\n",
        "Para uma equação de segundo grau $ax^2 + bx + c$, o número de raízes reais é definido pelo valor de delta <nobr>($ \\Delta = b^2 -4ac $).</nobr>\n",
        "\n",
        "- Se $ \\Delta > 0 $ : Duas raízes\n",
        "- Se $ \\Delta = 0 $ : Uma raíz\n",
        "- Se $ \\Delta < 0 $ : Nenhuma raíz\n",
        "\n",
        "Assim sendo, escreva uma função que receba os coeficientes da equação de 2º grau (a, b e c) e, com base nesses coeficientes, te diga automaticamente quantas raízes essa equação possui."
      ]
    },
    {
      "cell_type": "code",
      "metadata": {
        "id": "viaDdL7pmqmB",
        "outputId": "240918f9-c97c-4eb6-9562-c1bd237e9d86",
        "colab": {
          "base_uri": "https://localhost:8080/",
          "height": 34
        }
      },
      "source": [
        "def raizes(a,b,c):\n",
        "  delta = b**2 - 4*a*c\n",
        "  if delta > 0:\n",
        "    print(\"2 raízes\")\n",
        "  elif delta == 0:\n",
        "    print(\"1 raiz\")\n",
        "  else:\n",
        "    print(\"não tem raiz\")\n",
        "\n",
        "raizes(1,1,1)\n"
      ],
      "execution_count": 17,
      "outputs": [
        {
          "output_type": "stream",
          "text": [
            "não tem raiz\n"
          ],
          "name": "stdout"
        }
      ]
    },
    {
      "cell_type": "markdown",
      "metadata": {
        "id": "dP70QjURmqmG"
      },
      "source": [
        "## 13 \n",
        "\n",
        "Crie uma função que receba os coeficientes de uma equação de 2º grau (a, b e c) e retorne o valor de sua(s) raíz(es) ou imprima a mensagem \"Sem raíz real\" caso não possua raíz.\n",
        "\n",
        "Lembre-se que a resolução das raízes é feita usando a **Fórmula de Bhaskara**:\n",
        "\n",
        "<p style=\"font-size:16pt; text-align:center\"> $ x = \\frac{-b \\pm\\sqrt{b^2 - 4ac}}{2a} $</p>"
      ]
    },
    {
      "cell_type": "code",
      "metadata": {
        "id": "mJsWcQQ8mqmH",
        "outputId": "18455bdc-4f93-4573-e658-ac954276e06a",
        "colab": {
          "base_uri": "https://localhost:8080/",
          "height": 35
        }
      },
      "source": [
        "def bhaskara(a, b, c):\n",
        "  delta = b**2 - 4*a*c\n",
        "  bhaskara1 = (-b + delta**0.5) / 2*a\n",
        "  bhaskara2 = (-b - delta**0.5) / 2*a\n",
        "  if delta > 0:\n",
        "    return \"Duas raízes: {} e {}\".format(bhaskara1, bhaskara2)\n",
        "  elif delta == 0:\n",
        "    return \"Uma raiz: {}\".format(bhaskara1)\n",
        "  else:\n",
        "    return \"Sem raiz real\"\n",
        "\n",
        "bhaskara(3,15,3)"
      ],
      "execution_count": 18,
      "outputs": [
        {
          "output_type": "execute_result",
          "data": {
            "application/vnd.google.colaboratory.intrinsic+json": {
              "type": "string"
            },
            "text/plain": [
              "'Duas raízes: -1.8784093726987194 e -43.12159062730128'"
            ]
          },
          "metadata": {
            "tags": []
          },
          "execution_count": 18
        }
      ]
    }
  ]
}